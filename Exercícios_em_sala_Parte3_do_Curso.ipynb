{
  "nbformat": 4,
  "nbformat_minor": 0,
  "metadata": {
    "colab": {
      "provenance": [],
      "toc_visible": true
    },
    "kernelspec": {
      "name": "ir",
      "display_name": "R"
    },
    "language_info": {
      "name": "R"
    }
  },
  "cells": [
    {
      "cell_type": "code",
      "execution_count": 1,
      "metadata": {
        "colab": {
          "base_uri": "https://localhost:8080/",
          "height": 34
        },
        "id": "y6rKeLKXFTiY",
        "outputId": "a49c1afc-da75-4dc4-c09f-6e03f88a08cf"
      },
      "outputs": [
        {
          "output_type": "display_data",
          "data": {
            "text/html": [
              "1"
            ],
            "text/markdown": "1",
            "text/latex": "1",
            "text/plain": [
              "[1] 1"
            ]
          },
          "metadata": {}
        }
      ],
      "source": [
        "x<-1\n",
        "x\n"
      ]
    },
    {
      "cell_type": "markdown",
      "source": [],
      "metadata": {
        "id": "-xrRGgKFL3lz"
      }
    },
    {
      "cell_type": "code",
      "source": [
        "n_L<-13\n",
        "M_L<-21800\n",
        "d_L<-450\n",
        "\n",
        "n_I<-13\n",
        "M_I<-20300\n",
        "d_I<-320\n",
        "\n",
        "D_L_I<-1000\n",
        "\n",
        "significancia <- 0.05\n",
        "confianca <- 1 - significancia\n",
        "\n",
        "#H0: uI-uL<= 1000 H1 uI-uL<= 1000 teste unilateral a direita\n",
        "z_alpha_2 <- qnorm(confianca)\n",
        "z_alpha_2\n",
        "\n"
      ],
      "metadata": {
        "colab": {
          "base_uri": "https://localhost:8080/",
          "height": 34
        },
        "id": "RWfwD1hVFnWg",
        "outputId": "e5163058-9ee5-4ab4-ab92-1eadebf22ade"
      },
      "execution_count": 2,
      "outputs": [
        {
          "output_type": "display_data",
          "data": {
            "text/html": [
              "1.64485362695147"
            ],
            "text/markdown": "1.64485362695147",
            "text/latex": "1.64485362695147",
            "text/plain": [
              "[1] 1.644854"
            ]
          },
          "metadata": {}
        }
      ]
    },
    {
      "cell_type": "markdown",
      "source": [
        "Em testes entre duas amostras, quando realizamos a escolha da distribuição amostral adequada (passo 2) e perguntamos se n ≥ 30, temos que considerar que n = n1 + n2, onde n1 é o tamanho da primeira amostra e n2 o tamanho da segunda\n",
        "Quando n1 + n2 ≥ 30, utilizamos z (normal) e quando n1 + n2 < 30, σ não for conhecido e as populações forem normalmente distribuídas, utilizamos t (t-Student)\n",
        "Quando utilizamos a tabela t de Student, em testes de duas amostras, os graus de liberdade são obtidos da seguinte forma: n1 + n2 – 2"
      ],
      "metadata": {
        "id": "pHye3J_vHIGy"
      }
    },
    {
      "cell_type": "code",
      "source": [
        "graus_de_liberdade<-n_L+n_I-2\n",
        "t_alpha <- qt(confianca,graus_de_liberdade)\n",
        "t_alpha\n",
        "\n",
        "numerador <- (M_L-M_I) - D_L_I\n",
        "\n",
        "denominador <- sqrt((d_L^2/n_L)+(d_I^2/n_I))\n",
        "\n",
        "t_calc <-numerador/denominador\n",
        "t_calc\n",
        "\n",
        "if (t_calc>=t_alpha) {\n",
        "  'Rejeitar H0'\n",
        "} else {\n",
        "  'Aceitar H0'\n",
        "}\n"
      ],
      "metadata": {
        "colab": {
          "base_uri": "https://localhost:8080/",
          "height": 69
        },
        "id": "H3NL0sT0HJHU",
        "outputId": "bbe20a33-6344-4ccc-d036-16deb1893b6f"
      },
      "execution_count": 3,
      "outputs": [
        {
          "output_type": "display_data",
          "data": {
            "text/html": [
              "1.71088207990943"
            ],
            "text/markdown": "1.71088207990943",
            "text/latex": "1.71088207990943",
            "text/plain": [
              "[1] 1.710882"
            ]
          },
          "metadata": {}
        },
        {
          "output_type": "display_data",
          "data": {
            "text/html": [
              "3.26484801105005"
            ],
            "text/markdown": "3.26484801105005",
            "text/latex": "3.26484801105005",
            "text/plain": [
              "[1] 3.264848"
            ]
          },
          "metadata": {}
        },
        {
          "output_type": "display_data",
          "data": {
            "text/html": [
              "'Rejeitar H0'"
            ],
            "text/markdown": "'Rejeitar H0'",
            "text/latex": "'Rejeitar H0'",
            "text/plain": [
              "[1] \"Rejeitar H0\""
            ]
          },
          "metadata": {}
        }
      ]
    },
    {
      "cell_type": "code",
      "source": [
        "#install.packages(\"BSDA\")\n",
        "library(\"BSDA\")"
      ],
      "metadata": {
        "collapsed": true,
        "id": "6O7MBnbDKNm1",
        "colab": {
          "base_uri": "https://localhost:8080/"
        },
        "outputId": "15e9eb10-c895-48c1-f923-7bd3073a17bc"
      },
      "execution_count": 12,
      "outputs": [
        {
          "output_type": "stream",
          "name": "stderr",
          "text": [
            "Loading required package: lattice\n",
            "\n",
            "\n",
            "Attaching package: ‘BSDA’\n",
            "\n",
            "\n",
            "The following object is masked from ‘package:datasets’:\n",
            "\n",
            "    Orange\n",
            "\n",
            "\n"
          ]
        }
      ]
    },
    {
      "cell_type": "code",
      "source": [
        "homens <- matrix(c(300, 1000, 4000, 5000, 300, 350, 1200, 1200, 1100, 1800, 700, 5000, 250, 1560, 400, 5500, 3000, 0, 1100, 1500, 500, 500, 788, 500, 3000, 788, 2400, 788, 3300, 1350, 2500, 2000, 1300, 2430, 9000, 10120, 1380, 2000, 1400, 1000, 500, 1500, 2200, 2100, 4000, 1000, 1200, 2900, 1800, 2000, 788, 1576, 800, 2400, 788, 788, 788, 0, 12000, 7880, 850, 1000, 1000, 1600, 3800, 788, 1200, 300, 350, 700, 6000, 1500, 5000, 2000, 1200, 800, 250, 800, 1600, 400, 3000, 2304, 800, 1400, 450, 788, 2200, 6000, 1200, 4000, 6000, 1100, 1200, 1300, 3000, 3000, 1500, 1280, 788, 1400, 788, 4000, 0, 1000, 2500, 1300, 3000, 500, 1600, 2000, 1280, 150, 0, 0, 7000, 1061, 700, 788, 2000, 788, 10500, 788, 1600, 1050, 1100, 3000, 800, 1400, 1200, 2500, 1000, 1500, 1500, 900, 2000, 300, 3000, 788, 1400, 2000, 2000, 3000, 2600, 15000, 1500, 950, 1200, 1500, 7500, 1400, 350, 750, 1200, 788, 0, 2500, 1700, 788, 700, 1600, 1200, 320, 6000, 2000, 2000, 3000, 900, 2100, 0, 788, 1800, 1600, 4000, 1300, 1300, 1500, 8900, 1400, 788, 600, 1000, 950, 2000, 4000, 2300, 2000, 800, 2500, 1500, 1400, 800, 6000, 788, 900, 200, 1300, 788, 2600, 1500, 8000, 900, 2000, 2000, 350, 3000, 9580, 0, 400, 800, 1700, 1800, 1200, 18000, 9000, 3000, 1200, 700, 1200, 400, 987, 6000, 2000, 0, 0, 480, 500, 800, 1680, 10000, 1200, 1700, 788, 2200, 10000, 10000, 100, 1200, 1600, 2500, 1300, 1200, 1300, 2200, 200, 60, 1100, 1200, 6000, 4500, 100, 788, 2900, 2500, 900, 788, 2500, 4000, 788, 1400, 1000, 300, 788, 1000, 4000, 2200, 788, 1000, 1000, 600, 1600, 6000, 2500, 2500, 1000, 3000, 2200, 4500, 1500, 4300, 1500, 8500, 3200, 1200, 1200, 1500, 4000, 2000, 1350, 1500, 890, 5000, 2400, 13000, 800, 1500, 1500, 2000, 580, 500, 920, 1200, 2000, 788, 500, 20000, 1350, 1576, 500, 8000, 1800, 600, 1000, 3000, 4000, 1500, 788, 600, 2300, 1500, 500, 500, 800, 900, 8000, 1600, 3000, 788, 1500, 5200, 900, 3565, 650, 1700, 1600, 788, 1200, 788, 788, 100, 900, 1700, 10000, 1600, 200, 788, 1400, 1500, 400, 4200, 1400, 4000, 5516, 3500, 700, 1400, 1200, 0, 7000, 2000, 5000, 2000, 750, 3000, 2000, 1500, 200, 3000, 1700, 1500, 7000, 1500, 788, 2400, 2500, 1500, 2000, 1500, 2000, 1100, 800, 1800, 480, 3500, 700, 3400, 5000, 5000, 1300, 3000, 2000, 900, 2000, 1000, 1800, 0, 1500, 788, 3500, 875, 5000, 2000, 1300, 1600, 0, 750, 1200, 120, 1800, 1200, 788, 1000, 0, 1400, 2300, 7000, 4000, 5000, 788, 20000, 4000, 0, 1200, 1800, 500, 1000, 788, 1300, 5000, 50, 1700, 2000, 1600, 2000, 1350, 1500, 600, 1700, 780, 2446, 2100, 5000, 1700, 1200, 1000, 788, 4500, 1500, 788, 0, 1580, 1000, 4500, 2400, 788, 1100, 2000, 788, 100, 1200, 1200, 1200, 1000, 2000, 788, 2000, 15000, 600, 0, 1500, 3000, 4000, 900, 810, 600, 1500, 4000, 1200, 5000, 5300, 2500, 800, 0, 1400, 1500, 4000, 1200, 400, 1000, 820, 1000, 1000, 788, 1500, 2500, 1500, 220, 600, 788, 1750, 7000))\n",
        "mulheres <- matrix(c(788, 1200, 6000, 1000, 788, 1100, 1900, 1577, 900, 950, 1200, 788, 788, 1100, 30, 620, 900, 1000, 1200, 2000, 0, 500, 1200, 1500, 1200, 1120, 788, 788, 2300, 2400, 3000, 788, 4000, 1000, 500, 500, 1700, 200, 6000, 400, 950, 1100, 50, 930, 850, 1100, 3500, 1500, 1200, 900, 1100, 1500, 788, 1000, 788, 4500, 4000, 8000, 3500, 788, 1050, 1000, 1400, 3500, 600, 3000, 500, 930, 2660, 788, 360, 2364, 788, 160, 1100, 1085, 1050, 1500, 100, 0, 788, 250, 1700, 1300, 800, 0, 2000, 820, 910, 300, 2000, 200, 788, 788, 800, 1500, 1300, 1200, 0, 600, 1036, 400, 1100, 788, 400, 1500, 1200, 1800, 1000, 788, 850, 60, 1800, 3500, 600, 200, 500, 200, 1100, 1540, 1100, 900, 800, 500, 200, 1200, 1250, 788, 500, 200, 788, 200, 0, 1800, 2000, 1000, 900, 3000, 700, 1200, 788, 2800, 3300, 400, 0, 850, 1022, 6000, 750, 1000, 3500, 400, 1500, 1000, 800, 0, 980, 2400, 850, 1100, 788, 1100, 788, 1200, 788, 864, 1000, 500, 400, 3000, 1200, 100, 80, 900, 2000, 1250, 1000, 300, 400, 1500, 60, 8000, 1000, 600, 800, 350, 788, 0, 600, 788, 2500, 1300, 800, 8000, 1100, 800, 900, 2000, 0, 800, 1400, 1000, 1200, 788, 3840, 788, 3940, 788, 560, 800, 2000, 600, 2900, 0, 400, 800, 7000, 788, 788, 788, 788, 1250, 1500, 1386, 100, 300, 788, 788, 600, 600, 900, 2800, 788, 350, 900, 0, 150, 788, 788, 1000, 30, 788, 780, 900, 0, 0, 3000, 1800, 2000, 1100, 788, 0, 7500, 1800, 788, 788, 2000, 3000, 180, 2500, 800, 0, 1250, 200, 1100, 0, 1100, 400, 1300, 300, 0, 1312, 600, 200, 4000, 2400, 12000, 2150, 500, 400, 0, 600, 400, 788, 1200, 500, 2000, 1500, 70, 500, 2000, 1000, 100, 500, 2000, 100, 2115, 800, 5800, 2300, 750, 788, 0, 900, 1000, 600, 3000, 5500, 1600, 788, 4000, 0, 1100, 120, 320, 1100, 2500, 200, 800, 3000, 550, 4200, 7000, 720, 0, 2000, 5000, 2000, 788, 500, 788, 7000, 500, 788, 1760, 1200, 3500, 1500, 150, 800, 788, 3000, 400, 788, 1000, 2000, 2500, 0, 788, 5200, 788, 0, 600, 1300, 120, 850, 1576, 788, 2000, 1300, 788, 800, 1800, 655, 1580, 789, 788, 850, 788, 7000, 788, 430, 800, 788, 900, 10000, 1200, 300, 400, 788, 788, 3000, 900, 1300, 1300, 788, 800, 1000, 1890, 0, 788, 900, 4000, 788, 1010, 150, 450, 1700, 890, 1200, 2800, 1000, 788, 788, 700, 600, 800, 880, 6000, 800, 800, 820, 788, 1030, 560, 2100, 6500, 2500, 788, 400, 300, 788, 2300, 1000, 3500, 984, 1576, 420, 1700, 450, 1800, 400, 1500, 1500, 4256, 1200, 890, 1200, 300, 400, 850, 1500, 3800, 1800, 996, 2000, 1000, 788, 1500, 300, 600, 950, 1200, 788, 1200, 1500, 250, 788, 1200, 6000, 300, 789, 1500, 788, 3800, 780, 1200, 1200, 220, 788, 500, 200, 480, 1576, 1576, 1035, 900, 800, 1000, 805, 200, 1200, 2220, 1500, 880, 220, 2000, 788, 150, 0, 13000, 40, 5500, 788, 788, 1000, 400, 2000, 200, 1600))"
      ],
      "metadata": {
        "id": "7Z3jfIicLIVW"
      },
      "execution_count": 13,
      "outputs": []
    },
    {
      "cell_type": "code",
      "source": [
        "z.test(x=homens,\n",
        "       y=mulheres,\n",
        "       alternative='greater',\n",
        "       mu = 0,\n",
        "       sigma.x=sd(homens),\n",
        "       sigma.y =sd(mulheres),\n",
        "       conf.level =0.99\n",
        "       )"
      ],
      "metadata": {
        "colab": {
          "base_uri": "https://localhost:8080/",
          "height": 208
        },
        "id": "AhrV9SsaKd4i",
        "outputId": "d8d1630e-5402-473c-d80a-4a8f21b96f41"
      },
      "execution_count": 14,
      "outputs": [
        {
          "output_type": "display_data",
          "data": {
            "text/plain": [
              "\n",
              "\tTwo-sample z-Test\n",
              "\n",
              "data:  homens and mulheres\n",
              "z = 5.8656, p-value = 2.237e-09\n",
              "alternative hypothesis: true difference in means is greater than 0\n",
              "99 percent confidence interval:\n",
              " 473.7115       NA\n",
              "sample estimates:\n",
              "mean of x mean of y \n",
              " 2142.608  1357.528 \n"
            ]
          },
          "metadata": {}
        }
      ]
    },
    {
      "cell_type": "code",
      "source": [
        "resultado<-z.test(x=homens,\n",
        "       y=mulheres,\n",
        "       alternative='greater',\n",
        "       mu = 0,\n",
        "       sigma.x=sd(homens),\n",
        "       sigma.y =sd(mulheres),\n",
        "       conf.level =0.99\n",
        "       )\n"
      ],
      "metadata": {
        "id": "_y8Osq61LYz1"
      },
      "execution_count": 15,
      "outputs": []
    },
    {
      "cell_type": "code",
      "source": [
        "p_valor<-resultado$p.value\n",
        "p_valor"
      ],
      "metadata": {
        "colab": {
          "base_uri": "https://localhost:8080/",
          "height": 34
        },
        "id": "6mt5Xra6LvC3",
        "outputId": "124f5a0a-319f-437d-e725-13fc1f0cf93c"
      },
      "execution_count": 16,
      "outputs": [
        {
          "output_type": "display_data",
          "data": {
            "text/html": [
              "2.23728680026625e-09"
            ],
            "text/markdown": "2.23728680026625e-09",
            "text/latex": "2.23728680026625e-09",
            "text/plain": [
              "[1] 2.237287e-09"
            ]
          },
          "metadata": {}
        }
      ]
    },
    {
      "cell_type": "code",
      "source": [
        "p_valor<=significancia"
      ],
      "metadata": {
        "colab": {
          "base_uri": "https://localhost:8080/",
          "height": 34
        },
        "id": "GE3J6GVfL7pX",
        "outputId": "d1155ea6-d413-4337-882b-f34d85380563"
      },
      "execution_count": 18,
      "outputs": [
        {
          "output_type": "display_data",
          "data": {
            "text/html": [
              "TRUE"
            ],
            "text/markdown": "TRUE",
            "text/latex": "TRUE",
            "text/plain": [
              "[1] TRUE"
            ]
          },
          "metadata": {}
        }
      ]
    },
    {
      "cell_type": "markdown",
      "source": [
        "Considere dois conjuntos de dados A e B, onde µA e µB são as médias dos grupos A e B, respectivamente. Selecione a alternativa correta sobre as configurações da função z.test(), do pacote BSDA, considerando um teste com o seguinte conjunto de hipóteses e um nível de significância de 1%:"
      ],
      "metadata": {
        "id": "mQvSHwgeMent"
      }
    },
    {
      "cell_type": "code",
      "source": [
        "#H0: ua-ub>=23 H1: ua-ub<23\n",
        "#teste unilateral a esquerda\n"
      ],
      "metadata": {
        "id": "QLKycfK5Mhd2"
      },
      "execution_count": 19,
      "outputs": []
    },
    {
      "cell_type": "markdown",
      "source": [
        "Considere dois conjuntos de dados A e B, onde µA e µB são as médias dos grupos A e B, respectivamente. Selecione a alternativa correta sobre as configurações da função t.test(), do pacote stats, considerando um teste com o seguinte conjunto de hipóteses e um nível de significância de 1%:"
      ],
      "metadata": {
        "id": "wMh7cqaKNdqz"
      }
    },
    {
      "cell_type": "code",
      "source": [
        "#H0: ua-ub>=23 H1: ua-ub<23\n",
        "#teste unilateral a esquerda"
      ],
      "metadata": {
        "id": "pIXVX124NfaP"
      },
      "execution_count": null,
      "outputs": []
    },
    {
      "cell_type": "markdown",
      "source": [
        "t.test(x = A,\n",
        "       y = B,\n",
        "       mu = 23,\n",
        "       alternative = 'less',\n",
        "       paired = F,\n",
        "       var.equal = T,\n",
        "       conf.level = 0.99)"
      ],
      "metadata": {
        "id": "aezo3DyJN1PS"
      }
    },
    {
      "cell_type": "markdown",
      "source": [
        "O resultado de 60 lançamentos de duas moedas apresentou a seguinte frequência de resultados:\n",
        "2 caras - 12\n",
        "1 cara e 1 coroa - 34\n",
        "2 Coroas - 14\n",
        "\n",
        "Considerando um nível de significância de 5%, seria possível dizer que as moedas estão bem equilibradas, ou seja, que apresentam probabilidades iguais de se obter CARA ou COROA?\n",
        "\n",
        "Selecione a alternativa que apresenta a decisão correta e a estatística de teste."
      ],
      "metadata": {
        "id": "pOw3mtC_L7IE"
      }
    },
    {
      "cell_type": "markdown",
      "source": [],
      "metadata": {
        "id": "lTkFVYW9zfK-"
      }
    },
    {
      "cell_type": "code",
      "source": [
        "F_Observada <- c(12,34,14)\n",
        "F_Esperada <- c(15,30,15)\n",
        "significancia <- 0.05\n",
        "confianca <- 1 - significancia\n",
        "k <- 3  # Número de eventos possíveis\n",
        "graus_de_liberdade <- k-1\n",
        "\n",
        "chi_2_alpha <-qchisq(confianca,graus_de_liberdade)\n",
        "print(chi_2_alpha)\n",
        "chi_2 = 0\n",
        "for (i in 1:k){\n",
        "      chi_2 <-chi_2+ ((F_Observada[i] - F_Esperada[i])**2/F_Esperada[i])\n",
        "              }\n",
        "print(chi_2)\n",
        "\n",
        "if (chi_2 >= chi_2_alpha) {\n",
        "  'Rejeitar H0'\n",
        "} else {\n",
        "  'Aceitar H0'\n",
        "}"
      ],
      "metadata": {
        "colab": {
          "base_uri": "https://localhost:8080/",
          "height": 69
        },
        "id": "R9hKYcjUMIto",
        "outputId": "1cc34ee0-b70e-45ba-b3e5-84133164fa98"
      },
      "execution_count": 20,
      "outputs": [
        {
          "output_type": "stream",
          "name": "stdout",
          "text": [
            "[1] 5.991465\n",
            "[1] 1.2\n"
          ]
        },
        {
          "output_type": "display_data",
          "data": {
            "text/html": [
              "'Aceitar H0'"
            ],
            "text/markdown": "'Aceitar H0'",
            "text/latex": "'Aceitar H0'",
            "text/plain": [
              "[1] \"Aceitar H0\""
            ]
          },
          "metadata": {}
        }
      ]
    },
    {
      "cell_type": "markdown",
      "source": [
        "Na realização de um teste não paramétrico Qui-quadrado, com apenas 5 graus de liberdade, obteve-se a estatística de teste no valor de 7,45. Qual seria o p-valor para este teste?"
      ],
      "metadata": {
        "id": "7AIIDgYNeCQO"
      }
    },
    {
      "cell_type": "code",
      "source": [
        "p_valor <- pchisq(7.45,5, lower.tail = F)\n",
        "p_valor"
      ],
      "metadata": {
        "colab": {
          "base_uri": "https://localhost:8080/",
          "height": 34
        },
        "id": "SvkuFR9_eDsy",
        "outputId": "4308647e-b5d0-48ee-dfbd-65978c85eb6e"
      },
      "execution_count": 21,
      "outputs": [
        {
          "output_type": "display_data",
          "data": {
            "text/html": [
              "0.189265791211716"
            ],
            "text/markdown": "0.189265791211716",
            "text/latex": "0.189265791211716",
            "text/plain": [
              "[1] 0.1892658"
            ]
          },
          "metadata": {}
        }
      ]
    },
    {
      "cell_type": "code",
      "source": [
        "chisq.test(x = F_Observada, p = c(0.5,0.5))"
      ],
      "metadata": {
        "colab": {
          "base_uri": "https://localhost:8080/",
          "height": 280
        },
        "id": "ynmbeYqDgcr3",
        "outputId": "e6464c79-83a0-4486-e62c-c070b57fd1fc"
      },
      "execution_count": 23,
      "outputs": [
        {
          "output_type": "error",
          "ename": "ERROR",
          "evalue": "Error in chisq.test(x = F_Observada, p = c(0.5, 0.5)): 'x' and 'p' must have the same number of elements\n",
          "traceback": [
            "Error in chisq.test(x = F_Observada, p = c(0.5, 0.5)): 'x' and 'p' must have the same number of elements\nTraceback:\n",
            "1. stop(\"'x' and 'p' must have the same number of elements\")",
            "2. .handleSimpleError(function (cnd) \n . {\n .     watcher$capture_plot_and_output()\n .     cnd <- sanitize_call(cnd)\n .     watcher$push(cnd)\n .     switch(on_error, continue = invokeRestart(\"eval_continue\"), \n .         stop = invokeRestart(\"eval_stop\"), error = invokeRestart(\"eval_error\", \n .             cnd))\n . }, \"'x' and 'p' must have the same number of elements\", base::quote(chisq.test(x = F_Observada, \n .     p = c(0.5, 0.5))))"
          ]
        }
      ]
    },
    {
      "cell_type": "markdown",
      "source": [
        "Desconfiado da eficiência dos cursos e materiais de estudo on-line da Alura, um professor resolveu realizar um teste com um grupo de 30 alunos de sua classe. Para isso, ele submeteu esses alunos a duas etapas distintas e logo depois de cada etapa, aplicou uma avaliação. Na etapa inicial, foram oferecidas aulas normais, sem a utilização do material de apoio da Alura. Na segunda etapa, também foram oferecidas aulas normais, mas com a utilização do material de apoio da Alura. As notas obtidas pelos alunos nas duas etapas estão no data frame abaixo:"
      ],
      "metadata": {
        "id": "iwKhyJMznrI-"
      }
    },
    {
      "cell_type": "code",
      "source": [
        "alunos <- data.frame(\n",
        "    Sem_Alura = c(4, 3, 5, 4, 8, 6, 5, 7, 6, 7, 8, 7, 3, 7, 4, 7, 5, 7, 5, 7, 6, 4, 3, 3, 6, 3, 7, 4, 6, 6),\n",
        "    Com_Alura = c(8, 6, 10, 3, 9, 5, 8, 5, 4, 10, 5, 9, 8, 5, 10, 8, 7, 9, 9, 5, 5, 7, 8, 9, 8, 5, 5, 8, 5,9))\n",
        "\n",
        "significancia <- 0.10\n",
        "confianca <- 1 - significancia\n",
        "n <- nrow(alunos)\n",
        "\n",
        "head(alunos)"
      ],
      "metadata": {
        "colab": {
          "base_uri": "https://localhost:8080/",
          "height": 286
        },
        "collapsed": true,
        "id": "xLGRY-honsAX",
        "outputId": "f5a4e937-bac9-4c9d-a5e9-7b601b074ae8"
      },
      "execution_count": 26,
      "outputs": [
        {
          "output_type": "display_data",
          "data": {
            "text/html": [
              "<table class=\"dataframe\">\n",
              "<caption>A data.frame: 6 × 2</caption>\n",
              "<thead>\n",
              "\t<tr><th></th><th scope=col>Sem_Alura</th><th scope=col>Com_Alura</th></tr>\n",
              "\t<tr><th></th><th scope=col>&lt;dbl&gt;</th><th scope=col>&lt;dbl&gt;</th></tr>\n",
              "</thead>\n",
              "<tbody>\n",
              "\t<tr><th scope=row>1</th><td>4</td><td> 8</td></tr>\n",
              "\t<tr><th scope=row>2</th><td>3</td><td> 6</td></tr>\n",
              "\t<tr><th scope=row>3</th><td>5</td><td>10</td></tr>\n",
              "\t<tr><th scope=row>4</th><td>4</td><td> 3</td></tr>\n",
              "\t<tr><th scope=row>5</th><td>8</td><td> 9</td></tr>\n",
              "\t<tr><th scope=row>6</th><td>6</td><td> 5</td></tr>\n",
              "</tbody>\n",
              "</table>\n"
            ],
            "text/markdown": "\nA data.frame: 6 × 2\n\n| <!--/--> | Sem_Alura &lt;dbl&gt; | Com_Alura &lt;dbl&gt; |\n|---|---|---|\n| 1 | 4 |  8 |\n| 2 | 3 |  6 |\n| 3 | 5 | 10 |\n| 4 | 4 |  3 |\n| 5 | 8 |  9 |\n| 6 | 6 |  5 |\n\n",
            "text/latex": "A data.frame: 6 × 2\n\\begin{tabular}{r|ll}\n  & Sem\\_Alura & Com\\_Alura\\\\\n  & <dbl> & <dbl>\\\\\n\\hline\n\t1 & 4 &  8\\\\\n\t2 & 3 &  6\\\\\n\t3 & 5 & 10\\\\\n\t4 & 4 &  3\\\\\n\t5 & 8 &  9\\\\\n\t6 & 6 &  5\\\\\n\\end{tabular}\n",
            "text/plain": [
              "  Sem_Alura Com_Alura\n",
              "1 4          8       \n",
              "2 3          6       \n",
              "3 5         10       \n",
              "4 4          3       \n",
              "5 8          9       \n",
              "6 6          5       "
            ]
          },
          "metadata": {}
        }
      ]
    },
    {
      "cell_type": "code",
      "source": [
        "media_antes <- mean(alunos$Sem_Alura)\n",
        "media_depois <- mean(alunos$Com_Alura)"
      ],
      "metadata": {
        "id": "rOhqcuurpQ25"
      },
      "execution_count": 28,
      "outputs": []
    },
    {
      "cell_type": "markdown",
      "source": [
        "### $H_0: \\mu_{antes} = \\mu_{depois}$\n",
        "\n",
        "### $H_1: \\mu_{antes} > \\mu_{depois}$"
      ],
      "metadata": {
        "id": "taeiHVJHpoGY"
      }
    },
    {
      "cell_type": "code",
      "source": [
        "probabilidade <- (0.5 + (confianca / 2))\n",
        "z_alpha_2 <- qnorm(probabilidade)"
      ],
      "metadata": {
        "id": "ct8v_JsupraW"
      },
      "execution_count": 29,
      "outputs": []
    },
    {
      "cell_type": "code",
      "source": [
        "alunos['Dif'] <- alunos$Com_Alura - alunos$Sem_Alura\n",
        "head(alunos,5)\n",
        "alunos['|Dif|'] <- abs(alunos$Dif)\n",
        "head(alunos,5)"
      ],
      "metadata": {
        "colab": {
          "base_uri": "https://localhost:8080/",
          "height": 493
        },
        "collapsed": true,
        "id": "CYSDwXFnp3th",
        "outputId": "7fb2eecf-22cf-494f-f2cc-947afcc3eb35"
      },
      "execution_count": 30,
      "outputs": [
        {
          "output_type": "display_data",
          "data": {
            "text/html": [
              "<table class=\"dataframe\">\n",
              "<caption>A data.frame: 5 × 3</caption>\n",
              "<thead>\n",
              "\t<tr><th></th><th scope=col>Sem_Alura</th><th scope=col>Com_Alura</th><th scope=col>Dif</th></tr>\n",
              "\t<tr><th></th><th scope=col>&lt;dbl&gt;</th><th scope=col>&lt;dbl&gt;</th><th scope=col>&lt;dbl&gt;</th></tr>\n",
              "</thead>\n",
              "<tbody>\n",
              "\t<tr><th scope=row>1</th><td>4</td><td> 8</td><td> 4</td></tr>\n",
              "\t<tr><th scope=row>2</th><td>3</td><td> 6</td><td> 3</td></tr>\n",
              "\t<tr><th scope=row>3</th><td>5</td><td>10</td><td> 5</td></tr>\n",
              "\t<tr><th scope=row>4</th><td>4</td><td> 3</td><td>-1</td></tr>\n",
              "\t<tr><th scope=row>5</th><td>8</td><td> 9</td><td> 1</td></tr>\n",
              "</tbody>\n",
              "</table>\n"
            ],
            "text/markdown": "\nA data.frame: 5 × 3\n\n| <!--/--> | Sem_Alura &lt;dbl&gt; | Com_Alura &lt;dbl&gt; | Dif &lt;dbl&gt; |\n|---|---|---|---|\n| 1 | 4 |  8 |  4 |\n| 2 | 3 |  6 |  3 |\n| 3 | 5 | 10 |  5 |\n| 4 | 4 |  3 | -1 |\n| 5 | 8 |  9 |  1 |\n\n",
            "text/latex": "A data.frame: 5 × 3\n\\begin{tabular}{r|lll}\n  & Sem\\_Alura & Com\\_Alura & Dif\\\\\n  & <dbl> & <dbl> & <dbl>\\\\\n\\hline\n\t1 & 4 &  8 &  4\\\\\n\t2 & 3 &  6 &  3\\\\\n\t3 & 5 & 10 &  5\\\\\n\t4 & 4 &  3 & -1\\\\\n\t5 & 8 &  9 &  1\\\\\n\\end{tabular}\n",
            "text/plain": [
              "  Sem_Alura Com_Alura Dif\n",
              "1 4          8         4 \n",
              "2 3          6         3 \n",
              "3 5         10         5 \n",
              "4 4          3        -1 \n",
              "5 8          9         1 "
            ]
          },
          "metadata": {}
        },
        {
          "output_type": "display_data",
          "data": {
            "text/html": [
              "<table class=\"dataframe\">\n",
              "<caption>A data.frame: 5 × 4</caption>\n",
              "<thead>\n",
              "\t<tr><th></th><th scope=col>Sem_Alura</th><th scope=col>Com_Alura</th><th scope=col>Dif</th><th scope=col>|Dif|</th></tr>\n",
              "\t<tr><th></th><th scope=col>&lt;dbl&gt;</th><th scope=col>&lt;dbl&gt;</th><th scope=col>&lt;dbl&gt;</th><th scope=col>&lt;dbl&gt;</th></tr>\n",
              "</thead>\n",
              "<tbody>\n",
              "\t<tr><th scope=row>1</th><td>4</td><td> 8</td><td> 4</td><td>4</td></tr>\n",
              "\t<tr><th scope=row>2</th><td>3</td><td> 6</td><td> 3</td><td>3</td></tr>\n",
              "\t<tr><th scope=row>3</th><td>5</td><td>10</td><td> 5</td><td>5</td></tr>\n",
              "\t<tr><th scope=row>4</th><td>4</td><td> 3</td><td>-1</td><td>1</td></tr>\n",
              "\t<tr><th scope=row>5</th><td>8</td><td> 9</td><td> 1</td><td>1</td></tr>\n",
              "</tbody>\n",
              "</table>\n"
            ],
            "text/markdown": "\nA data.frame: 5 × 4\n\n| <!--/--> | Sem_Alura &lt;dbl&gt; | Com_Alura &lt;dbl&gt; | Dif &lt;dbl&gt; | |Dif| &lt;dbl&gt; |\n|---|---|---|---|---|\n| 1 | 4 |  8 |  4 | 4 |\n| 2 | 3 |  6 |  3 | 3 |\n| 3 | 5 | 10 |  5 | 5 |\n| 4 | 4 |  3 | -1 | 1 |\n| 5 | 8 |  9 |  1 | 1 |\n\n",
            "text/latex": "A data.frame: 5 × 4\n\\begin{tabular}{r|llll}\n  & Sem\\_Alura & Com\\_Alura & Dif & \\textbar{}Dif\\textbar{}\\\\\n  & <dbl> & <dbl> & <dbl> & <dbl>\\\\\n\\hline\n\t1 & 4 &  8 &  4 & 4\\\\\n\t2 & 3 &  6 &  3 & 3\\\\\n\t3 & 5 & 10 &  5 & 5\\\\\n\t4 & 4 &  3 & -1 & 1\\\\\n\t5 & 8 &  9 &  1 & 1\\\\\n\\end{tabular}\n",
            "text/plain": [
              "  Sem_Alura Com_Alura Dif |Dif|\n",
              "1 4          8         4  4    \n",
              "2 3          6         3  3    \n",
              "3 5         10         5  5    \n",
              "4 4          3        -1  1    \n",
              "5 8          9         1  1    "
            ]
          },
          "metadata": {}
        }
      ]
    },
    {
      "cell_type": "code",
      "source": [
        "alunos<- alunos[order(alunos$'|Dif|'),] # ordenado pelo 'Dif'\n",
        "head(alunos,10)"
      ],
      "metadata": {
        "colab": {
          "base_uri": "https://localhost:8080/",
          "height": 412
        },
        "collapsed": true,
        "id": "5Vk8KGA6qpZt",
        "outputId": "364f5912-9bbd-4b5c-8ef5-4f3f9923b434"
      },
      "execution_count": 31,
      "outputs": [
        {
          "output_type": "display_data",
          "data": {
            "text/html": [
              "<table class=\"dataframe\">\n",
              "<caption>A data.frame: 10 × 4</caption>\n",
              "<thead>\n",
              "\t<tr><th></th><th scope=col>Sem_Alura</th><th scope=col>Com_Alura</th><th scope=col>Dif</th><th scope=col>|Dif|</th></tr>\n",
              "\t<tr><th></th><th scope=col>&lt;dbl&gt;</th><th scope=col>&lt;dbl&gt;</th><th scope=col>&lt;dbl&gt;</th><th scope=col>&lt;dbl&gt;</th></tr>\n",
              "</thead>\n",
              "<tbody>\n",
              "\t<tr><th scope=row>4</th><td>4</td><td>3</td><td>-1</td><td>1</td></tr>\n",
              "\t<tr><th scope=row>5</th><td>8</td><td>9</td><td> 1</td><td>1</td></tr>\n",
              "\t<tr><th scope=row>6</th><td>6</td><td>5</td><td>-1</td><td>1</td></tr>\n",
              "\t<tr><th scope=row>16</th><td>7</td><td>8</td><td> 1</td><td>1</td></tr>\n",
              "\t<tr><th scope=row>21</th><td>6</td><td>5</td><td>-1</td><td>1</td></tr>\n",
              "\t<tr><th scope=row>29</th><td>6</td><td>5</td><td>-1</td><td>1</td></tr>\n",
              "\t<tr><th scope=row>8</th><td>7</td><td>5</td><td>-2</td><td>2</td></tr>\n",
              "\t<tr><th scope=row>9</th><td>6</td><td>4</td><td>-2</td><td>2</td></tr>\n",
              "\t<tr><th scope=row>12</th><td>7</td><td>9</td><td> 2</td><td>2</td></tr>\n",
              "\t<tr><th scope=row>14</th><td>7</td><td>5</td><td>-2</td><td>2</td></tr>\n",
              "</tbody>\n",
              "</table>\n"
            ],
            "text/markdown": "\nA data.frame: 10 × 4\n\n| <!--/--> | Sem_Alura &lt;dbl&gt; | Com_Alura &lt;dbl&gt; | Dif &lt;dbl&gt; | |Dif| &lt;dbl&gt; |\n|---|---|---|---|---|\n| 4 | 4 | 3 | -1 | 1 |\n| 5 | 8 | 9 |  1 | 1 |\n| 6 | 6 | 5 | -1 | 1 |\n| 16 | 7 | 8 |  1 | 1 |\n| 21 | 6 | 5 | -1 | 1 |\n| 29 | 6 | 5 | -1 | 1 |\n| 8 | 7 | 5 | -2 | 2 |\n| 9 | 6 | 4 | -2 | 2 |\n| 12 | 7 | 9 |  2 | 2 |\n| 14 | 7 | 5 | -2 | 2 |\n\n",
            "text/latex": "A data.frame: 10 × 4\n\\begin{tabular}{r|llll}\n  & Sem\\_Alura & Com\\_Alura & Dif & \\textbar{}Dif\\textbar{}\\\\\n  & <dbl> & <dbl> & <dbl> & <dbl>\\\\\n\\hline\n\t4 & 4 & 3 & -1 & 1\\\\\n\t5 & 8 & 9 &  1 & 1\\\\\n\t6 & 6 & 5 & -1 & 1\\\\\n\t16 & 7 & 8 &  1 & 1\\\\\n\t21 & 6 & 5 & -1 & 1\\\\\n\t29 & 6 & 5 & -1 & 1\\\\\n\t8 & 7 & 5 & -2 & 2\\\\\n\t9 & 6 & 4 & -2 & 2\\\\\n\t12 & 7 & 9 &  2 & 2\\\\\n\t14 & 7 & 5 & -2 & 2\\\\\n\\end{tabular}\n",
            "text/plain": [
              "   Sem_Alura Com_Alura Dif |Dif|\n",
              "4  4         3         -1  1    \n",
              "5  8         9          1  1    \n",
              "6  6         5         -1  1    \n",
              "16 7         8          1  1    \n",
              "21 6         5         -1  1    \n",
              "29 6         5         -1  1    \n",
              "8  7         5         -2  2    \n",
              "9  6         4         -2  2    \n",
              "12 7         9          2  2    \n",
              "14 7         5         -2  2    "
            ]
          },
          "metadata": {}
        }
      ]
    },
    {
      "cell_type": "code",
      "source": [
        "alunos['Posto'] <- seq(1, nrow(alunos))\n",
        "head(alunos,10)\n"
      ],
      "metadata": {
        "colab": {
          "base_uri": "https://localhost:8080/",
          "height": 412
        },
        "collapsed": true,
        "id": "rwUIfyX1q0bE",
        "outputId": "e7f771ba-8eab-4ac2-a47d-2079e96afd90"
      },
      "execution_count": 32,
      "outputs": [
        {
          "output_type": "display_data",
          "data": {
            "text/html": [
              "<table class=\"dataframe\">\n",
              "<caption>A data.frame: 10 × 5</caption>\n",
              "<thead>\n",
              "\t<tr><th></th><th scope=col>Sem_Alura</th><th scope=col>Com_Alura</th><th scope=col>Dif</th><th scope=col>|Dif|</th><th scope=col>Posto</th></tr>\n",
              "\t<tr><th></th><th scope=col>&lt;dbl&gt;</th><th scope=col>&lt;dbl&gt;</th><th scope=col>&lt;dbl&gt;</th><th scope=col>&lt;dbl&gt;</th><th scope=col>&lt;int&gt;</th></tr>\n",
              "</thead>\n",
              "<tbody>\n",
              "\t<tr><th scope=row>4</th><td>4</td><td>3</td><td>-1</td><td>1</td><td> 1</td></tr>\n",
              "\t<tr><th scope=row>5</th><td>8</td><td>9</td><td> 1</td><td>1</td><td> 2</td></tr>\n",
              "\t<tr><th scope=row>6</th><td>6</td><td>5</td><td>-1</td><td>1</td><td> 3</td></tr>\n",
              "\t<tr><th scope=row>16</th><td>7</td><td>8</td><td> 1</td><td>1</td><td> 4</td></tr>\n",
              "\t<tr><th scope=row>21</th><td>6</td><td>5</td><td>-1</td><td>1</td><td> 5</td></tr>\n",
              "\t<tr><th scope=row>29</th><td>6</td><td>5</td><td>-1</td><td>1</td><td> 6</td></tr>\n",
              "\t<tr><th scope=row>8</th><td>7</td><td>5</td><td>-2</td><td>2</td><td> 7</td></tr>\n",
              "\t<tr><th scope=row>9</th><td>6</td><td>4</td><td>-2</td><td>2</td><td> 8</td></tr>\n",
              "\t<tr><th scope=row>12</th><td>7</td><td>9</td><td> 2</td><td>2</td><td> 9</td></tr>\n",
              "\t<tr><th scope=row>14</th><td>7</td><td>5</td><td>-2</td><td>2</td><td>10</td></tr>\n",
              "</tbody>\n",
              "</table>\n"
            ],
            "text/markdown": "\nA data.frame: 10 × 5\n\n| <!--/--> | Sem_Alura &lt;dbl&gt; | Com_Alura &lt;dbl&gt; | Dif &lt;dbl&gt; | |Dif| &lt;dbl&gt; | Posto &lt;int&gt; |\n|---|---|---|---|---|---|\n| 4 | 4 | 3 | -1 | 1 |  1 |\n| 5 | 8 | 9 |  1 | 1 |  2 |\n| 6 | 6 | 5 | -1 | 1 |  3 |\n| 16 | 7 | 8 |  1 | 1 |  4 |\n| 21 | 6 | 5 | -1 | 1 |  5 |\n| 29 | 6 | 5 | -1 | 1 |  6 |\n| 8 | 7 | 5 | -2 | 2 |  7 |\n| 9 | 6 | 4 | -2 | 2 |  8 |\n| 12 | 7 | 9 |  2 | 2 |  9 |\n| 14 | 7 | 5 | -2 | 2 | 10 |\n\n",
            "text/latex": "A data.frame: 10 × 5\n\\begin{tabular}{r|lllll}\n  & Sem\\_Alura & Com\\_Alura & Dif & \\textbar{}Dif\\textbar{} & Posto\\\\\n  & <dbl> & <dbl> & <dbl> & <dbl> & <int>\\\\\n\\hline\n\t4 & 4 & 3 & -1 & 1 &  1\\\\\n\t5 & 8 & 9 &  1 & 1 &  2\\\\\n\t6 & 6 & 5 & -1 & 1 &  3\\\\\n\t16 & 7 & 8 &  1 & 1 &  4\\\\\n\t21 & 6 & 5 & -1 & 1 &  5\\\\\n\t29 & 6 & 5 & -1 & 1 &  6\\\\\n\t8 & 7 & 5 & -2 & 2 &  7\\\\\n\t9 & 6 & 4 & -2 & 2 &  8\\\\\n\t12 & 7 & 9 &  2 & 2 &  9\\\\\n\t14 & 7 & 5 & -2 & 2 & 10\\\\\n\\end{tabular}\n",
            "text/plain": [
              "   Sem_Alura Com_Alura Dif |Dif| Posto\n",
              "4  4         3         -1  1      1   \n",
              "5  8         9          1  1      2   \n",
              "6  6         5         -1  1      3   \n",
              "16 7         8          1  1      4   \n",
              "21 6         5         -1  1      5   \n",
              "29 6         5         -1  1      6   \n",
              "8  7         5         -2  2      7   \n",
              "9  6         4         -2  2      8   \n",
              "12 7         9          2  2      9   \n",
              "14 7         5         -2  2     10   "
            ]
          },
          "metadata": {}
        }
      ]
    },
    {
      "cell_type": "code",
      "source": [
        "posto <- aggregate(x = alunos$'Posto', by = list(alunos$'|Dif|'), FUN = mean)\n",
        "colnames(posto) <- c('|Dif|', 'Posto')\n",
        "posto"
      ],
      "metadata": {
        "colab": {
          "base_uri": "https://localhost:8080/",
          "height": 304
        },
        "id": "TtlC5Djzq_xS",
        "outputId": "0aa9522b-1783-4b9d-b572-0119144faaa3"
      },
      "execution_count": 33,
      "outputs": [
        {
          "output_type": "display_data",
          "data": {
            "text/html": [
              "<table class=\"dataframe\">\n",
              "<caption>A data.frame: 6 × 2</caption>\n",
              "<thead>\n",
              "\t<tr><th scope=col>|Dif|</th><th scope=col>Posto</th></tr>\n",
              "\t<tr><th scope=col>&lt;dbl&gt;</th><th scope=col>&lt;dbl&gt;</th></tr>\n",
              "</thead>\n",
              "<tbody>\n",
              "\t<tr><td>1</td><td> 3.5</td></tr>\n",
              "\t<tr><td>2</td><td>11.5</td></tr>\n",
              "\t<tr><td>3</td><td>19.5</td></tr>\n",
              "\t<tr><td>4</td><td>24.0</td></tr>\n",
              "\t<tr><td>5</td><td>27.0</td></tr>\n",
              "\t<tr><td>6</td><td>29.5</td></tr>\n",
              "</tbody>\n",
              "</table>\n"
            ],
            "text/markdown": "\nA data.frame: 6 × 2\n\n| |Dif| &lt;dbl&gt; | Posto &lt;dbl&gt; |\n|---|---|\n| 1 |  3.5 |\n| 2 | 11.5 |\n| 3 | 19.5 |\n| 4 | 24.0 |\n| 5 | 27.0 |\n| 6 | 29.5 |\n\n",
            "text/latex": "A data.frame: 6 × 2\n\\begin{tabular}{ll}\n \\textbar{}Dif\\textbar{} & Posto\\\\\n <dbl> & <dbl>\\\\\n\\hline\n\t 1 &  3.5\\\\\n\t 2 & 11.5\\\\\n\t 3 & 19.5\\\\\n\t 4 & 24.0\\\\\n\t 5 & 27.0\\\\\n\t 6 & 29.5\\\\\n\\end{tabular}\n",
            "text/plain": [
              "  |Dif| Posto\n",
              "1 1      3.5 \n",
              "2 2     11.5 \n",
              "3 3     19.5 \n",
              "4 4     24.0 \n",
              "5 5     27.0 \n",
              "6 6     29.5 "
            ]
          },
          "metadata": {}
        }
      ]
    },
    {
      "cell_type": "code",
      "source": [
        "alunos$Posto <- NULL\n",
        "head(alunos,10)"
      ],
      "metadata": {
        "colab": {
          "base_uri": "https://localhost:8080/"
        },
        "collapsed": true,
        "id": "R4X9t11krLy_",
        "outputId": "c8fd07f1-d558-4d6e-837c-33ed6e52bcf1"
      },
      "execution_count": 40,
      "outputs": [
        {
          "output_type": "display_data",
          "data": {
            "text/html": [
              "<table class=\"dataframe\">\n",
              "<caption>A data.frame: 10 × 6</caption>\n",
              "<thead>\n",
              "\t<tr><th></th><th scope=col>|Dif|</th><th scope=col>Sem_Alura</th><th scope=col>Com_Alura</th><th scope=col>Dif</th><th scope=col>Posto (+)</th><th scope=col>Posto (-)</th></tr>\n",
              "\t<tr><th></th><th scope=col>&lt;dbl&gt;</th><th scope=col>&lt;dbl&gt;</th><th scope=col>&lt;dbl&gt;</th><th scope=col>&lt;dbl&gt;</th><th scope=col>&lt;dbl&gt;</th><th scope=col>&lt;dbl&gt;</th></tr>\n",
              "</thead>\n",
              "<tbody>\n",
              "\t<tr><th scope=row>1</th><td>1</td><td>4</td><td>3</td><td>-1</td><td> 0.0</td><td> 3.5</td></tr>\n",
              "\t<tr><th scope=row>2</th><td>1</td><td>8</td><td>9</td><td> 1</td><td> 3.5</td><td> 0.0</td></tr>\n",
              "\t<tr><th scope=row>3</th><td>1</td><td>6</td><td>5</td><td>-1</td><td> 0.0</td><td> 3.5</td></tr>\n",
              "\t<tr><th scope=row>4</th><td>1</td><td>7</td><td>8</td><td> 1</td><td> 3.5</td><td> 0.0</td></tr>\n",
              "\t<tr><th scope=row>5</th><td>1</td><td>6</td><td>5</td><td>-1</td><td> 0.0</td><td> 3.5</td></tr>\n",
              "\t<tr><th scope=row>6</th><td>1</td><td>6</td><td>5</td><td>-1</td><td> 0.0</td><td> 3.5</td></tr>\n",
              "\t<tr><th scope=row>7</th><td>2</td><td>7</td><td>5</td><td>-2</td><td> 0.0</td><td>11.5</td></tr>\n",
              "\t<tr><th scope=row>8</th><td>2</td><td>6</td><td>4</td><td>-2</td><td> 0.0</td><td>11.5</td></tr>\n",
              "\t<tr><th scope=row>9</th><td>2</td><td>7</td><td>9</td><td> 2</td><td>11.5</td><td> 0.0</td></tr>\n",
              "\t<tr><th scope=row>10</th><td>2</td><td>7</td><td>5</td><td>-2</td><td> 0.0</td><td>11.5</td></tr>\n",
              "</tbody>\n",
              "</table>\n"
            ],
            "text/markdown": "\nA data.frame: 10 × 6\n\n| <!--/--> | |Dif| &lt;dbl&gt; | Sem_Alura &lt;dbl&gt; | Com_Alura &lt;dbl&gt; | Dif &lt;dbl&gt; | Posto (+) &lt;dbl&gt; | Posto (-) &lt;dbl&gt; |\n|---|---|---|---|---|---|---|\n| 1 | 1 | 4 | 3 | -1 |  0.0 |  3.5 |\n| 2 | 1 | 8 | 9 |  1 |  3.5 |  0.0 |\n| 3 | 1 | 6 | 5 | -1 |  0.0 |  3.5 |\n| 4 | 1 | 7 | 8 |  1 |  3.5 |  0.0 |\n| 5 | 1 | 6 | 5 | -1 |  0.0 |  3.5 |\n| 6 | 1 | 6 | 5 | -1 |  0.0 |  3.5 |\n| 7 | 2 | 7 | 5 | -2 |  0.0 | 11.5 |\n| 8 | 2 | 6 | 4 | -2 |  0.0 | 11.5 |\n| 9 | 2 | 7 | 9 |  2 | 11.5 |  0.0 |\n| 10 | 2 | 7 | 5 | -2 |  0.0 | 11.5 |\n\n",
            "text/latex": "A data.frame: 10 × 6\n\\begin{tabular}{r|llllll}\n  & \\textbar{}Dif\\textbar{} & Sem\\_Alura & Com\\_Alura & Dif & Posto (+) & Posto (-)\\\\\n  & <dbl> & <dbl> & <dbl> & <dbl> & <dbl> & <dbl>\\\\\n\\hline\n\t1 & 1 & 4 & 3 & -1 &  0.0 &  3.5\\\\\n\t2 & 1 & 8 & 9 &  1 &  3.5 &  0.0\\\\\n\t3 & 1 & 6 & 5 & -1 &  0.0 &  3.5\\\\\n\t4 & 1 & 7 & 8 &  1 &  3.5 &  0.0\\\\\n\t5 & 1 & 6 & 5 & -1 &  0.0 &  3.5\\\\\n\t6 & 1 & 6 & 5 & -1 &  0.0 &  3.5\\\\\n\t7 & 2 & 7 & 5 & -2 &  0.0 & 11.5\\\\\n\t8 & 2 & 6 & 4 & -2 &  0.0 & 11.5\\\\\n\t9 & 2 & 7 & 9 &  2 & 11.5 &  0.0\\\\\n\t10 & 2 & 7 & 5 & -2 &  0.0 & 11.5\\\\\n\\end{tabular}\n",
            "text/plain": [
              "   |Dif| Sem_Alura Com_Alura Dif Posto (+) Posto (-)\n",
              "1  1     4         3         -1   0.0       3.5     \n",
              "2  1     8         9          1   3.5       0.0     \n",
              "3  1     6         5         -1   0.0       3.5     \n",
              "4  1     7         8          1   3.5       0.0     \n",
              "5  1     6         5         -1   0.0       3.5     \n",
              "6  1     6         5         -1   0.0       3.5     \n",
              "7  2     7         5         -2   0.0      11.5     \n",
              "8  2     6         4         -2   0.0      11.5     \n",
              "9  2     7         9          2  11.5       0.0     \n",
              "10 2     7         5         -2   0.0      11.5     "
            ]
          },
          "metadata": {}
        }
      ]
    },
    {
      "cell_type": "code",
      "source": [
        "alunos <- merge(x = alunos, y = posto, by = '|Dif|', all.x = TRUE)\n",
        "head(alunos,10)"
      ],
      "metadata": {
        "colab": {
          "base_uri": "https://localhost:8080/",
          "height": 412
        },
        "collapsed": true,
        "id": "xx-JZXOprfzE",
        "outputId": "e3cda554-d5ab-4fc0-9a6a-9232628e1c49"
      },
      "execution_count": 35,
      "outputs": [
        {
          "output_type": "display_data",
          "data": {
            "text/html": [
              "<table class=\"dataframe\">\n",
              "<caption>A data.frame: 10 × 5</caption>\n",
              "<thead>\n",
              "\t<tr><th></th><th scope=col>|Dif|</th><th scope=col>Sem_Alura</th><th scope=col>Com_Alura</th><th scope=col>Dif</th><th scope=col>Posto</th></tr>\n",
              "\t<tr><th></th><th scope=col>&lt;dbl&gt;</th><th scope=col>&lt;dbl&gt;</th><th scope=col>&lt;dbl&gt;</th><th scope=col>&lt;dbl&gt;</th><th scope=col>&lt;dbl&gt;</th></tr>\n",
              "</thead>\n",
              "<tbody>\n",
              "\t<tr><th scope=row>1</th><td>1</td><td>4</td><td>3</td><td>-1</td><td> 3.5</td></tr>\n",
              "\t<tr><th scope=row>2</th><td>1</td><td>8</td><td>9</td><td> 1</td><td> 3.5</td></tr>\n",
              "\t<tr><th scope=row>3</th><td>1</td><td>6</td><td>5</td><td>-1</td><td> 3.5</td></tr>\n",
              "\t<tr><th scope=row>4</th><td>1</td><td>7</td><td>8</td><td> 1</td><td> 3.5</td></tr>\n",
              "\t<tr><th scope=row>5</th><td>1</td><td>6</td><td>5</td><td>-1</td><td> 3.5</td></tr>\n",
              "\t<tr><th scope=row>6</th><td>1</td><td>6</td><td>5</td><td>-1</td><td> 3.5</td></tr>\n",
              "\t<tr><th scope=row>7</th><td>2</td><td>7</td><td>5</td><td>-2</td><td>11.5</td></tr>\n",
              "\t<tr><th scope=row>8</th><td>2</td><td>6</td><td>4</td><td>-2</td><td>11.5</td></tr>\n",
              "\t<tr><th scope=row>9</th><td>2</td><td>7</td><td>9</td><td> 2</td><td>11.5</td></tr>\n",
              "\t<tr><th scope=row>10</th><td>2</td><td>7</td><td>5</td><td>-2</td><td>11.5</td></tr>\n",
              "</tbody>\n",
              "</table>\n"
            ],
            "text/markdown": "\nA data.frame: 10 × 5\n\n| <!--/--> | |Dif| &lt;dbl&gt; | Sem_Alura &lt;dbl&gt; | Com_Alura &lt;dbl&gt; | Dif &lt;dbl&gt; | Posto &lt;dbl&gt; |\n|---|---|---|---|---|---|\n| 1 | 1 | 4 | 3 | -1 |  3.5 |\n| 2 | 1 | 8 | 9 |  1 |  3.5 |\n| 3 | 1 | 6 | 5 | -1 |  3.5 |\n| 4 | 1 | 7 | 8 |  1 |  3.5 |\n| 5 | 1 | 6 | 5 | -1 |  3.5 |\n| 6 | 1 | 6 | 5 | -1 |  3.5 |\n| 7 | 2 | 7 | 5 | -2 | 11.5 |\n| 8 | 2 | 6 | 4 | -2 | 11.5 |\n| 9 | 2 | 7 | 9 |  2 | 11.5 |\n| 10 | 2 | 7 | 5 | -2 | 11.5 |\n\n",
            "text/latex": "A data.frame: 10 × 5\n\\begin{tabular}{r|lllll}\n  & \\textbar{}Dif\\textbar{} & Sem\\_Alura & Com\\_Alura & Dif & Posto\\\\\n  & <dbl> & <dbl> & <dbl> & <dbl> & <dbl>\\\\\n\\hline\n\t1 & 1 & 4 & 3 & -1 &  3.5\\\\\n\t2 & 1 & 8 & 9 &  1 &  3.5\\\\\n\t3 & 1 & 6 & 5 & -1 &  3.5\\\\\n\t4 & 1 & 7 & 8 &  1 &  3.5\\\\\n\t5 & 1 & 6 & 5 & -1 &  3.5\\\\\n\t6 & 1 & 6 & 5 & -1 &  3.5\\\\\n\t7 & 2 & 7 & 5 & -2 & 11.5\\\\\n\t8 & 2 & 6 & 4 & -2 & 11.5\\\\\n\t9 & 2 & 7 & 9 &  2 & 11.5\\\\\n\t10 & 2 & 7 & 5 & -2 & 11.5\\\\\n\\end{tabular}\n",
            "text/plain": [
              "   |Dif| Sem_Alura Com_Alura Dif Posto\n",
              "1  1     4         3         -1   3.5 \n",
              "2  1     8         9          1   3.5 \n",
              "3  1     6         5         -1   3.5 \n",
              "4  1     7         8          1   3.5 \n",
              "5  1     6         5         -1   3.5 \n",
              "6  1     6         5         -1   3.5 \n",
              "7  2     7         5         -2  11.5 \n",
              "8  2     6         4         -2  11.5 \n",
              "9  2     7         9          2  11.5 \n",
              "10 2     7         5         -2  11.5 "
            ]
          },
          "metadata": {}
        }
      ]
    },
    {
      "cell_type": "code",
      "source": [
        "alunos['Posto (+)'] <- apply(alunos[, c('Dif', 'Posto')], 1, function(x) if(x[1] > 0) x[2] else 0)\n",
        "head(alunos,10)\n",
        "alunos['Posto (-)'] <- apply(alunos[, c('Dif', 'Posto')], 1, function(x) if(x[1] < 0) x[2] else 0)\n",
        "head(alunos,10)"
      ],
      "metadata": {
        "colab": {
          "base_uri": "https://localhost:8080/",
          "height": 806
        },
        "id": "JG7avGtTrqbA",
        "outputId": "72104cb2-da92-4f69-97f7-c24500864c8d"
      },
      "execution_count": 36,
      "outputs": [
        {
          "output_type": "display_data",
          "data": {
            "text/html": [
              "<table class=\"dataframe\">\n",
              "<caption>A data.frame: 10 × 6</caption>\n",
              "<thead>\n",
              "\t<tr><th></th><th scope=col>|Dif|</th><th scope=col>Sem_Alura</th><th scope=col>Com_Alura</th><th scope=col>Dif</th><th scope=col>Posto</th><th scope=col>Posto (+)</th></tr>\n",
              "\t<tr><th></th><th scope=col>&lt;dbl&gt;</th><th scope=col>&lt;dbl&gt;</th><th scope=col>&lt;dbl&gt;</th><th scope=col>&lt;dbl&gt;</th><th scope=col>&lt;dbl&gt;</th><th scope=col>&lt;dbl&gt;</th></tr>\n",
              "</thead>\n",
              "<tbody>\n",
              "\t<tr><th scope=row>1</th><td>1</td><td>4</td><td>3</td><td>-1</td><td> 3.5</td><td> 0.0</td></tr>\n",
              "\t<tr><th scope=row>2</th><td>1</td><td>8</td><td>9</td><td> 1</td><td> 3.5</td><td> 3.5</td></tr>\n",
              "\t<tr><th scope=row>3</th><td>1</td><td>6</td><td>5</td><td>-1</td><td> 3.5</td><td> 0.0</td></tr>\n",
              "\t<tr><th scope=row>4</th><td>1</td><td>7</td><td>8</td><td> 1</td><td> 3.5</td><td> 3.5</td></tr>\n",
              "\t<tr><th scope=row>5</th><td>1</td><td>6</td><td>5</td><td>-1</td><td> 3.5</td><td> 0.0</td></tr>\n",
              "\t<tr><th scope=row>6</th><td>1</td><td>6</td><td>5</td><td>-1</td><td> 3.5</td><td> 0.0</td></tr>\n",
              "\t<tr><th scope=row>7</th><td>2</td><td>7</td><td>5</td><td>-2</td><td>11.5</td><td> 0.0</td></tr>\n",
              "\t<tr><th scope=row>8</th><td>2</td><td>6</td><td>4</td><td>-2</td><td>11.5</td><td> 0.0</td></tr>\n",
              "\t<tr><th scope=row>9</th><td>2</td><td>7</td><td>9</td><td> 2</td><td>11.5</td><td>11.5</td></tr>\n",
              "\t<tr><th scope=row>10</th><td>2</td><td>7</td><td>5</td><td>-2</td><td>11.5</td><td> 0.0</td></tr>\n",
              "</tbody>\n",
              "</table>\n"
            ],
            "text/markdown": "\nA data.frame: 10 × 6\n\n| <!--/--> | |Dif| &lt;dbl&gt; | Sem_Alura &lt;dbl&gt; | Com_Alura &lt;dbl&gt; | Dif &lt;dbl&gt; | Posto &lt;dbl&gt; | Posto (+) &lt;dbl&gt; |\n|---|---|---|---|---|---|---|\n| 1 | 1 | 4 | 3 | -1 |  3.5 |  0.0 |\n| 2 | 1 | 8 | 9 |  1 |  3.5 |  3.5 |\n| 3 | 1 | 6 | 5 | -1 |  3.5 |  0.0 |\n| 4 | 1 | 7 | 8 |  1 |  3.5 |  3.5 |\n| 5 | 1 | 6 | 5 | -1 |  3.5 |  0.0 |\n| 6 | 1 | 6 | 5 | -1 |  3.5 |  0.0 |\n| 7 | 2 | 7 | 5 | -2 | 11.5 |  0.0 |\n| 8 | 2 | 6 | 4 | -2 | 11.5 |  0.0 |\n| 9 | 2 | 7 | 9 |  2 | 11.5 | 11.5 |\n| 10 | 2 | 7 | 5 | -2 | 11.5 |  0.0 |\n\n",
            "text/latex": "A data.frame: 10 × 6\n\\begin{tabular}{r|llllll}\n  & \\textbar{}Dif\\textbar{} & Sem\\_Alura & Com\\_Alura & Dif & Posto & Posto (+)\\\\\n  & <dbl> & <dbl> & <dbl> & <dbl> & <dbl> & <dbl>\\\\\n\\hline\n\t1 & 1 & 4 & 3 & -1 &  3.5 &  0.0\\\\\n\t2 & 1 & 8 & 9 &  1 &  3.5 &  3.5\\\\\n\t3 & 1 & 6 & 5 & -1 &  3.5 &  0.0\\\\\n\t4 & 1 & 7 & 8 &  1 &  3.5 &  3.5\\\\\n\t5 & 1 & 6 & 5 & -1 &  3.5 &  0.0\\\\\n\t6 & 1 & 6 & 5 & -1 &  3.5 &  0.0\\\\\n\t7 & 2 & 7 & 5 & -2 & 11.5 &  0.0\\\\\n\t8 & 2 & 6 & 4 & -2 & 11.5 &  0.0\\\\\n\t9 & 2 & 7 & 9 &  2 & 11.5 & 11.5\\\\\n\t10 & 2 & 7 & 5 & -2 & 11.5 &  0.0\\\\\n\\end{tabular}\n",
            "text/plain": [
              "   |Dif| Sem_Alura Com_Alura Dif Posto Posto (+)\n",
              "1  1     4         3         -1   3.5   0.0     \n",
              "2  1     8         9          1   3.5   3.5     \n",
              "3  1     6         5         -1   3.5   0.0     \n",
              "4  1     7         8          1   3.5   3.5     \n",
              "5  1     6         5         -1   3.5   0.0     \n",
              "6  1     6         5         -1   3.5   0.0     \n",
              "7  2     7         5         -2  11.5   0.0     \n",
              "8  2     6         4         -2  11.5   0.0     \n",
              "9  2     7         9          2  11.5  11.5     \n",
              "10 2     7         5         -2  11.5   0.0     "
            ]
          },
          "metadata": {}
        },
        {
          "output_type": "display_data",
          "data": {
            "text/html": [
              "<table class=\"dataframe\">\n",
              "<caption>A data.frame: 10 × 7</caption>\n",
              "<thead>\n",
              "\t<tr><th></th><th scope=col>|Dif|</th><th scope=col>Sem_Alura</th><th scope=col>Com_Alura</th><th scope=col>Dif</th><th scope=col>Posto</th><th scope=col>Posto (+)</th><th scope=col>Posto (-)</th></tr>\n",
              "\t<tr><th></th><th scope=col>&lt;dbl&gt;</th><th scope=col>&lt;dbl&gt;</th><th scope=col>&lt;dbl&gt;</th><th scope=col>&lt;dbl&gt;</th><th scope=col>&lt;dbl&gt;</th><th scope=col>&lt;dbl&gt;</th><th scope=col>&lt;dbl&gt;</th></tr>\n",
              "</thead>\n",
              "<tbody>\n",
              "\t<tr><th scope=row>1</th><td>1</td><td>4</td><td>3</td><td>-1</td><td> 3.5</td><td> 0.0</td><td> 3.5</td></tr>\n",
              "\t<tr><th scope=row>2</th><td>1</td><td>8</td><td>9</td><td> 1</td><td> 3.5</td><td> 3.5</td><td> 0.0</td></tr>\n",
              "\t<tr><th scope=row>3</th><td>1</td><td>6</td><td>5</td><td>-1</td><td> 3.5</td><td> 0.0</td><td> 3.5</td></tr>\n",
              "\t<tr><th scope=row>4</th><td>1</td><td>7</td><td>8</td><td> 1</td><td> 3.5</td><td> 3.5</td><td> 0.0</td></tr>\n",
              "\t<tr><th scope=row>5</th><td>1</td><td>6</td><td>5</td><td>-1</td><td> 3.5</td><td> 0.0</td><td> 3.5</td></tr>\n",
              "\t<tr><th scope=row>6</th><td>1</td><td>6</td><td>5</td><td>-1</td><td> 3.5</td><td> 0.0</td><td> 3.5</td></tr>\n",
              "\t<tr><th scope=row>7</th><td>2</td><td>7</td><td>5</td><td>-2</td><td>11.5</td><td> 0.0</td><td>11.5</td></tr>\n",
              "\t<tr><th scope=row>8</th><td>2</td><td>6</td><td>4</td><td>-2</td><td>11.5</td><td> 0.0</td><td>11.5</td></tr>\n",
              "\t<tr><th scope=row>9</th><td>2</td><td>7</td><td>9</td><td> 2</td><td>11.5</td><td>11.5</td><td> 0.0</td></tr>\n",
              "\t<tr><th scope=row>10</th><td>2</td><td>7</td><td>5</td><td>-2</td><td>11.5</td><td> 0.0</td><td>11.5</td></tr>\n",
              "</tbody>\n",
              "</table>\n"
            ],
            "text/markdown": "\nA data.frame: 10 × 7\n\n| <!--/--> | |Dif| &lt;dbl&gt; | Sem_Alura &lt;dbl&gt; | Com_Alura &lt;dbl&gt; | Dif &lt;dbl&gt; | Posto &lt;dbl&gt; | Posto (+) &lt;dbl&gt; | Posto (-) &lt;dbl&gt; |\n|---|---|---|---|---|---|---|---|\n| 1 | 1 | 4 | 3 | -1 |  3.5 |  0.0 |  3.5 |\n| 2 | 1 | 8 | 9 |  1 |  3.5 |  3.5 |  0.0 |\n| 3 | 1 | 6 | 5 | -1 |  3.5 |  0.0 |  3.5 |\n| 4 | 1 | 7 | 8 |  1 |  3.5 |  3.5 |  0.0 |\n| 5 | 1 | 6 | 5 | -1 |  3.5 |  0.0 |  3.5 |\n| 6 | 1 | 6 | 5 | -1 |  3.5 |  0.0 |  3.5 |\n| 7 | 2 | 7 | 5 | -2 | 11.5 |  0.0 | 11.5 |\n| 8 | 2 | 6 | 4 | -2 | 11.5 |  0.0 | 11.5 |\n| 9 | 2 | 7 | 9 |  2 | 11.5 | 11.5 |  0.0 |\n| 10 | 2 | 7 | 5 | -2 | 11.5 |  0.0 | 11.5 |\n\n",
            "text/latex": "A data.frame: 10 × 7\n\\begin{tabular}{r|lllllll}\n  & \\textbar{}Dif\\textbar{} & Sem\\_Alura & Com\\_Alura & Dif & Posto & Posto (+) & Posto (-)\\\\\n  & <dbl> & <dbl> & <dbl> & <dbl> & <dbl> & <dbl> & <dbl>\\\\\n\\hline\n\t1 & 1 & 4 & 3 & -1 &  3.5 &  0.0 &  3.5\\\\\n\t2 & 1 & 8 & 9 &  1 &  3.5 &  3.5 &  0.0\\\\\n\t3 & 1 & 6 & 5 & -1 &  3.5 &  0.0 &  3.5\\\\\n\t4 & 1 & 7 & 8 &  1 &  3.5 &  3.5 &  0.0\\\\\n\t5 & 1 & 6 & 5 & -1 &  3.5 &  0.0 &  3.5\\\\\n\t6 & 1 & 6 & 5 & -1 &  3.5 &  0.0 &  3.5\\\\\n\t7 & 2 & 7 & 5 & -2 & 11.5 &  0.0 & 11.5\\\\\n\t8 & 2 & 6 & 4 & -2 & 11.5 &  0.0 & 11.5\\\\\n\t9 & 2 & 7 & 9 &  2 & 11.5 & 11.5 &  0.0\\\\\n\t10 & 2 & 7 & 5 & -2 & 11.5 &  0.0 & 11.5\\\\\n\\end{tabular}\n",
            "text/plain": [
              "   |Dif| Sem_Alura Com_Alura Dif Posto Posto (+) Posto (-)\n",
              "1  1     4         3         -1   3.5   0.0       3.5     \n",
              "2  1     8         9          1   3.5   3.5       0.0     \n",
              "3  1     6         5         -1   3.5   0.0       3.5     \n",
              "4  1     7         8          1   3.5   3.5       0.0     \n",
              "5  1     6         5         -1   3.5   0.0       3.5     \n",
              "6  1     6         5         -1   3.5   0.0       3.5     \n",
              "7  2     7         5         -2  11.5   0.0      11.5     \n",
              "8  2     6         4         -2  11.5   0.0      11.5     \n",
              "9  2     7         9          2  11.5  11.5       0.0     \n",
              "10 2     7         5         -2  11.5   0.0      11.5     "
            ]
          },
          "metadata": {}
        }
      ]
    },
    {
      "cell_type": "code",
      "source": [
        "alunos$Posto <- NULL"
      ],
      "metadata": {
        "id": "Zd5IEPn1tikQ"
      },
      "execution_count": 37,
      "outputs": []
    },
    {
      "cell_type": "markdown",
      "source": [
        "## $T$ = menor das somas de postos de mesmo sinal"
      ],
      "metadata": {
        "id": "EozItZgftnWJ"
      }
    },
    {
      "cell_type": "code",
      "source": [
        "T <- min( sum( alunos['Posto (+)'] ), sum( alunos['Posto (-)'] ) )\n",
        "print(paste0(\"O valor de T é:\",T))\n",
        "mu_T <- ( n * ( n + 1 ) ) / 4\n",
        "sigma_T <- sqrt( ( n * ( n + 1 ) * ( ( 2 * n ) + 1 ) ) / 24 )\n",
        "z_calc <- ( T - mu_T ) / sigma_T\n",
        "print(paste0(\"O valor de z_calc é:\",round(z_calc,5)))\n"
      ],
      "metadata": {
        "colab": {
          "base_uri": "https://localhost:8080/"
        },
        "id": "u71z08pKtn5_",
        "outputId": "fb1c7a9f-c827-4e5d-9e31-9d1df962ea25"
      },
      "execution_count": 38,
      "outputs": [
        {
          "output_type": "stream",
          "name": "stdout",
          "text": [
            "[1] \"O valor de T é:91\"\n",
            "[1] \"O valor de z_calc é:-2.91042\"\n"
          ]
        }
      ]
    },
    {
      "cell_type": "markdown",
      "source": [
        "### $H_0: \\mu_{antes} = \\mu_{depois}$\n",
        "\n",
        "### $H_1: \\mu_{antes} > \\mu_{depois}$"
      ],
      "metadata": {
        "id": "HfQ68tzFuF6g"
      }
    },
    {
      "cell_type": "code",
      "source": [
        "if(z_calc <= -z_alpha_2 || z_calc >= z_alpha_2){\n",
        "  'Rejeitar H0'\n",
        "}else{\n",
        "  'Aceitar H0'\n",
        "}"
      ],
      "metadata": {
        "colab": {
          "base_uri": "https://localhost:8080/",
          "height": 34
        },
        "id": "k7kNG60vt8PR",
        "outputId": "00a7cb21-777b-428c-a648-95d9aa14fa8b"
      },
      "execution_count": 39,
      "outputs": [
        {
          "output_type": "display_data",
          "data": {
            "text/html": [
              "'Rejeitar H0'"
            ],
            "text/markdown": "'Rejeitar H0'",
            "text/latex": "'Rejeitar H0'",
            "text/plain": [
              "[1] \"Rejeitar H0\""
            ]
          },
          "metadata": {}
        }
      ]
    },
    {
      "cell_type": "markdown",
      "source": [
        "Uma fábrica de rações para porcos gostaria de verificar se a adição de um determinado composto químico em um de seus produtos teria um efeito significativo no ganho de peso dos animais. Para isso, selecionou uma amostra de 35 porcos e testou este mesmo grupo em duas situações distintas. No primeiro teste, alimentou os suínos exclusivamente com a ração sem o composto por uma semana e registrou a variação de peso de cada animal do grupo. No segundo teste, alimentou o mesmo grupo de animais com a ração com o novo composto, por mais uma semana, e registrou novamente a variação dos pesos.\n",
        "\n",
        "Selecione a alternativa que apresenta o p-valor e a decisão correta do teste de Wilcoxon sobre a diferença entre as médias sem e com o composto na ração. Utilize a função wilcox.test() do R e considere um nível de significância de 5%."
      ],
      "metadata": {
        "id": "YXZ2r3iyzJ3x"
      }
    },
    {
      "cell_type": "code",
      "source": [
        "pesos <- data.frame(\n",
        "    Sem_Composto = c(180, -39, 325, 303, 127, 149, 271, 163, 287, 255, 398, 324, 335, 421,\n",
        "        216, 274, 373, 116, 197, -37, 321, 431, 112, 304, 417, 362, 51, 187, 195, 304, 202, 158, 105, 90, 245),\n",
        "    Com_Composto = c(484, 187, 442, 108, 488, 283, 286, 419, 240, 266, 198, 130, 484, 424,\n",
        "        145, 133, 282, 386, 408, 290, 429, 386, 318, 390, 347, 442, 440, 356, 517, 454, 401, 108, 228, 471, 495)\n",
        ")"
      ],
      "metadata": {
        "id": "_I_osONDzOk6"
      },
      "execution_count": 41,
      "outputs": []
    },
    {
      "cell_type": "code",
      "source": [
        "resultado <- wilcox.test(pesos$Sem_Composto,pesos$Com_Composto,paired= TRUE,correct = F, )\n",
        "resultado\n"
      ],
      "metadata": {
        "colab": {
          "base_uri": "https://localhost:8080/",
          "height": 121
        },
        "id": "BVA8Pmzizf_m",
        "outputId": "9ee9f802-4bc3-48d0-85fc-9e7433e1dccb"
      },
      "execution_count": 45,
      "outputs": [
        {
          "output_type": "display_data",
          "data": {
            "text/plain": [
              "\n",
              "\tWilcoxon signed rank exact test\n",
              "\n",
              "data:  pesos$Sem_Composto and pesos$Com_Composto\n",
              "V = 121, p-value = 0.001027\n",
              "alternative hypothesis: true location shift is not equal to 0\n"
            ]
          },
          "metadata": {}
        }
      ]
    },
    {
      "cell_type": "markdown",
      "source": [
        "### $H_0: \\mu_{antes} = \\mu_{depois}$\n",
        "\n",
        "### $H_1: \\mu_{antes} < \\mu_{depois}$"
      ],
      "metadata": {
        "id": "tQgUrldt0foS"
      }
    },
    {
      "cell_type": "code",
      "source": [
        "p_valor <-resultado$p.value\n",
        "p_valor<=5/100\n"
      ],
      "metadata": {
        "colab": {
          "base_uri": "https://localhost:8080/",
          "height": 34
        },
        "id": "TbceQrAl0XgH",
        "outputId": "f7e0cbc0-b1c9-4153-80ad-1e6ae81331bd"
      },
      "execution_count": 47,
      "outputs": [
        {
          "output_type": "display_data",
          "data": {
            "text/html": [
              "TRUE"
            ],
            "text/markdown": "TRUE",
            "text/latex": "TRUE",
            "text/plain": [
              "[1] TRUE"
            ]
          },
          "metadata": {}
        }
      ]
    },
    {
      "cell_type": "code",
      "source": [
        "#Considerando o conjunto de informações abaixo:\n",
        "dados_1 <- data.frame(\n",
        "    Dados = c(116.48, -18.85, 150.38, 151.34, 105.08, 106.8, 0.12,\n",
        "        37.2, 152.73, 96.41, 111.03, 70.4, 98.05, 110.94, 33.61, 57.07,\n",
        "        123.72, 81.82, 105.77, 36.24, 79.45, 137.87, 85.7, 170.41,\n",
        "        68.46, 88.15, 60.26, 84.47, 168.2, 133.59, 84.49, 49.8, 104.52,\n",
        "        172.91, 121.5, 99.98, 208.15, 144.28, 105.39, 135.1)\n",
        ")"
      ],
      "metadata": {
        "id": "0PdRNHvf3xXD"
      },
      "execution_count": 49,
      "outputs": []
    },
    {
      "cell_type": "code",
      "source": [
        "resultado_1<-shapiro.test(dados_1$Dados)\n",
        "resultado_1"
      ],
      "metadata": {
        "colab": {
          "base_uri": "https://localhost:8080/",
          "height": 104
        },
        "id": "-d7KOV__37ks",
        "outputId": "dd85a70d-f6d0-46db-c24c-f6dc70a3ceda"
      },
      "execution_count": 53,
      "outputs": [
        {
          "output_type": "display_data",
          "data": {
            "text/plain": [
              "\n",
              "\tShapiro-Wilk normality test\n",
              "\n",
              "data:  dados_1$Dados\n",
              "W = 0.98783, p-value = 0.9383\n"
            ]
          },
          "metadata": {}
        }
      ]
    },
    {
      "cell_type": "markdown",
      "source": [
        "### Rejeitar $H_0$ se o valor $p\\leq \\alpha$\n",
        "#### $H_0$ é a hipótese de que o valor provém de uma distribuição normal"
      ],
      "metadata": {
        "id": "TJt4iUv64cuo"
      }
    },
    {
      "cell_type": "code",
      "source": [
        "significancia <- 0.05\n",
        "resultado_1$p.value<=significancia\n"
      ],
      "metadata": {
        "colab": {
          "base_uri": "https://localhost:8080/",
          "height": 34
        },
        "id": "kzKmNGer4W4O",
        "outputId": "6526ef91-e7a8-4ed0-9e95-ab80006e6cd6"
      },
      "execution_count": 54,
      "outputs": [
        {
          "output_type": "display_data",
          "data": {
            "text/html": [
              "FALSE"
            ],
            "text/markdown": "FALSE",
            "text/latex": "FALSE",
            "text/plain": [
              "[1] FALSE"
            ]
          },
          "metadata": {}
        }
      ]
    },
    {
      "cell_type": "code",
      "source": [
        "library(ggplot2)\n"
      ],
      "metadata": {
        "id": "q3kwAuyu4seF"
      },
      "execution_count": 57,
      "outputs": []
    },
    {
      "cell_type": "code",
      "source": [
        "ggplot(dados_1, aes(x = Dados)) +\n",
        "    geom_histogram() +\n",
        "    ylab(\"Frequência\") +\n",
        "    xlab(\"Dados\") +\n",
        "    ggtitle('Histograma dos Dados') +\n",
        "    theme(plot.title=element_text(hjust = 0.5))"
      ],
      "metadata": {
        "colab": {
          "base_uri": "https://localhost:8080/",
          "height": 454
        },
        "id": "dChbXbO947dL",
        "outputId": "8d768252-b5d7-48bb-d6ba-6e2a56017403"
      },
      "execution_count": 60,
      "outputs": [
        {
          "output_type": "stream",
          "name": "stderr",
          "text": [
            "\u001b[1m\u001b[22m`stat_bin()` using `bins = 30`. Pick better value with `binwidth`.\n"
          ]
        },
        {
          "output_type": "display_data",
          "data": {
            "text/plain": [
              "plot without title"
            ],
            "image/png": "[encoded data removed]"
          },
          "metadata": {
            "image/png": {
              "width": 420,
              "height": 420
            }
          }
        }
      ]
    }
  ]
}